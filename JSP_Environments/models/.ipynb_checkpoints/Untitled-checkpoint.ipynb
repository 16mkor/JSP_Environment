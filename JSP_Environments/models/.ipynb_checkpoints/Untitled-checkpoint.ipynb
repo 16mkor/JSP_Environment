{
 "cells": [
  {
   "cell_type": "code",
   "execution_count": 1,
   "id": "d5fbd22b",
   "metadata": {},
   "outputs": [],
   "source": [
    "import torch"
   ]
  },
  {
   "cell_type": "code",
   "execution_count": 3,
   "id": "82d0fa89",
   "metadata": {},
   "outputs": [],
   "source": [
    "def create_toeplitz_matrix(m):\n",
    "    N, L = m.shape\n",
    "    diagonal = torch.arange(N)\n",
    "    indices = diagonal.view(-1, 1) - diagonal\n",
    "    b = m[indices]\n",
    "    \n",
    "    return b"
   ]
  },
  {
   "cell_type": "code",
   "execution_count": 4,
   "id": "7f902d30",
   "metadata": {},
   "outputs": [],
   "source": [
    "m = torch.tensor([[1, 2, 3],\n",
    "                  [4, 5, 6],\n",
    "                  [7, 8, 9]])\n",
    "\n",
    "toeplitz_matrix = create_toeplitz_matrix(m)"
   ]
  },
  {
   "cell_type": "code",
   "execution_count": 5,
   "id": "90ecaffa",
   "metadata": {},
   "outputs": [
    {
     "name": "stdout",
     "output_type": "stream",
     "text": [
      "tensor([[[1, 2, 3],\n",
      "         [7, 8, 9],\n",
      "         [4, 5, 6]],\n",
      "\n",
      "        [[4, 5, 6],\n",
      "         [1, 2, 3],\n",
      "         [7, 8, 9]],\n",
      "\n",
      "        [[7, 8, 9],\n",
      "         [4, 5, 6],\n",
      "         [1, 2, 3]]])\n"
     ]
    }
   ],
   "source": [
    "print(toeplitz_matrix)"
   ]
  },
  {
   "cell_type": "code",
   "execution_count": 6,
   "id": "9ed0fc40",
   "metadata": {},
   "outputs": [
    {
     "name": "stdout",
     "output_type": "stream",
     "text": [
      "tensor([[1., 0., 0.],\n",
      "        [4., 1., 0.],\n",
      "        [7., 4., 1.]])\n"
     ]
    }
   ],
   "source": [
    "def create_toeplitz_matrix(m):\n",
    "    N, L = m.shape\n",
    "    b = torch.zeros((N, N))\n",
    "\n",
    "    for i in range(N):\n",
    "        for j in range(N):\n",
    "            if i >= j:\n",
    "                b[i, j] = m[i - j, 0]\n",
    "\n",
    "    return b\n",
    "\n",
    "m = torch.tensor([[1, 2, 3],\n",
    "                  [4, 5, 6],\n",
    "                  [7, 8, 9]])\n",
    "\n",
    "toeplitz_matrix = create_toeplitz_matrix(m)\n",
    "print(toeplitz_matrix)"
   ]
  },
  {
   "cell_type": "code",
   "execution_count": 8,
   "id": "6e0f2c7f",
   "metadata": {},
   "outputs": [
    {
     "name": "stdout",
     "output_type": "stream",
     "text": [
      "tensor([[[1, 2, 3],\n",
      "         [3, 1, 2],\n",
      "         [2, 3, 1]],\n",
      "\n",
      "        [[4, 5, 6],\n",
      "         [6, 4, 5],\n",
      "         [5, 6, 4]],\n",
      "\n",
      "        [[7, 8, 9],\n",
      "         [9, 7, 8],\n",
      "         [8, 9, 7]]])\n"
     ]
    }
   ],
   "source": [
    "def create_toeplitz_matrix(m):\n",
    "    N, L = m.shape\n",
    "    diagonal = torch.arange(L)\n",
    "    indices = diagonal.view(1, -1) - diagonal.view(-1, 1)\n",
    "    b = m[:, indices]\n",
    "\n",
    "    return b\n",
    "\n",
    "m = torch.tensor([[1, 2, 3],\n",
    "                  [4, 5, 6],\n",
    "                  [7, 8, 9]])\n",
    "\n",
    "toeplitz_matrix = create_toeplitz_matrix(m)\n",
    "print(toeplitz_matrix)"
   ]
  },
  {
   "cell_type": "code",
   "execution_count": 10,
   "id": "0f55b1d0",
   "metadata": {},
   "outputs": [
    {
     "name": "stdout",
     "output_type": "stream",
     "text": [
      "[[1 2 3 4 5 6 7 8 9]\n",
      " [2 1 2 3 4 5 6 7 8]\n",
      " [3 2 1 2 3 4 5 6 7]\n",
      " [4 3 2 1 2 3 4 5 6]\n",
      " [5 4 3 2 1 2 3 4 5]\n",
      " [6 5 4 3 2 1 2 3 4]\n",
      " [7 6 5 4 3 2 1 2 3]\n",
      " [8 7 6 5 4 3 2 1 2]\n",
      " [9 8 7 6 5 4 3 2 1]]\n"
     ]
    }
   ],
   "source": [
    "from scipy.linalg import toeplitz\n",
    "\n",
    "m = torch.tensor([[1, 2, 3],\n",
    "                  [4, 5, 6],\n",
    "                  [7, 8, 9]])\n",
    "\n",
    "toeplitz_matrix = toeplitz(m)\n",
    "print(toeplitz_matrix)"
   ]
  },
  {
   "cell_type": "code",
   "execution_count": 12,
   "id": "a3eb8d27",
   "metadata": {},
   "outputs": [
    {
     "name": "stdout",
     "output_type": "stream",
     "text": [
      "(1, 1, 128, 128)\n"
     ]
    }
   ],
   "source": [
    "import numpy as np\n",
    "from scipy.linalg import toeplitz\n",
    "\n",
    "tensor_shape = (1, 1, 128)\n",
    "toeplitz_size = tensor_shape[-1]\n",
    "\n",
    "# Generate the first row of the Toeplitz matrix\n",
    "first_row = np.concatenate((np.ones((1,)), np.zeros((toeplitz_size - 1,))), axis=0)\n",
    "\n",
    "# Generate the full Toeplitz matrix\n",
    "toeplitz_matrix = toeplitz(first_row)\n",
    "\n",
    "# Reshape the Toeplitz matrix to match the broadcasting rules\n",
    "toeplitz_matrix = np.reshape(toeplitz_matrix, (1, 1, toeplitz_size, toeplitz_size))\n",
    "\n",
    "print(toeplitz_matrix.shape)\n"
   ]
  },
  {
   "cell_type": "code",
   "execution_count": 15,
   "id": "45a995ce",
   "metadata": {},
   "outputs": [],
   "source": [
    "tensor = torch.ones((1,1,128))\n",
    "test = tensor * toeplitz_matrix"
   ]
  },
  {
   "cell_type": "code",
   "execution_count": null,
   "id": "4a88b774",
   "metadata": {},
   "outputs": [],
   "source": []
  }
 ],
 "metadata": {
  "kernelspec": {
   "display_name": "Python 3",
   "language": "python",
   "name": "python3"
  },
  "language_info": {
   "codemirror_mode": {
    "name": "ipython",
    "version": 3
   },
   "file_extension": ".py",
   "mimetype": "text/x-python",
   "name": "python",
   "nbconvert_exporter": "python",
   "pygments_lexer": "ipython3",
   "version": "3.8.8"
  }
 },
 "nbformat": 4,
 "nbformat_minor": 5
}
