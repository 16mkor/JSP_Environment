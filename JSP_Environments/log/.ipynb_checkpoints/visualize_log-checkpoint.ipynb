{
 "cells": [
  {
   "cell_type": "markdown",
   "metadata": {},
   "source": [
    "# Performance Comparison"
   ]
  },
  {
   "cell_type": "code",
   "execution_count": 1,
   "metadata": {},
   "outputs": [],
   "source": [
    "import numpy as np\n",
    "import pandas as pd\n",
    "import seaborn as sb\n",
    "import matplotlib.pyplot as plt"
   ]
  },
  {
   "cell_type": "code",
   "execution_count": 2,
   "metadata": {},
   "outputs": [],
   "source": [
    "def load_logfiles(episode_log:str, reward_log:str):\n",
    "    ep_log = pd.read_csv(episode_log, sep=',')\n",
    "    agent_log = pd.read_csv(reward_log, sep=',')\n",
    "    return ep_log, agent_log"
   ]
  },
  {
   "cell_type": "code",
   "execution_count": 3,
   "metadata": {},
   "outputs": [],
   "source": [
    "def extract_kpi(episode_log:pd.DataFrame):\n",
    "    perf_kpi = pd.DataFrame()\n",
    "    perf_kpi['alpha'] = episode_log['alpha'].values\n",
    "    perf_kpi['inventory'] = episode_log['inventory'].values\n",
    "    perf_kpi['order_waiting_time'] = episode_log['order_waiting_time'].values\n",
    "    perf_kpi['machines_working'] = episode_log['machines_working'].values\n",
    "    perf_kpi['total_reward'] = episode_log['total_reward'].values\n",
    "    perf_kpi['transp_working'] = episode_log['transp_working'].values\n",
    "    perf_kpi['processed_orders'] = episode_log['processed_orders'].values\n",
    "    return perf_kpi"
   ]
  },
  {
   "cell_type": "code",
   "execution_count": 4,
   "metadata": {},
   "outputs": [],
   "source": [
    "def mean_kpi(perf_kpi:pd.DataFrame):\n",
    "    alpha = perf_kpi['alpha'].mean()\n",
    "    inventory = perf_kpi['inventory'].mean()\n",
    "    order_waiting_time = perf_kpi['order_waiting_time'].mean()\n",
    "    machines_working = perf_kpi['machines_working'].mean()\n",
    "    max_reward = perf_kpi['total_reward'].max()\n",
    "    transp_util = perf_kpi['transp_working'].mean()\n",
    "    throughput = perf_kpi['processed_orders'].mean()\n",
    "    means = [alpha, inventory, order_waiting_time, machines_working,\n",
    "          max_reward, transp_util, throughput]\n",
    "    print(means)\n",
    "    return means"
   ]
  },
  {
   "cell_type": "code",
   "execution_count": 5,
   "metadata": {},
   "outputs": [],
   "source": [
    "def plot_kpi(perf_kpi:pd.DataFrame):\n",
    "    kpis = ['alpha', 'inventory', 'order_waiting_time', 'machines_working', 'max_reward', 'transp_util', 'throughput']\n",
    "    for kpi in kpis:\n",
    "        if kpi in perf_kpi.columns:\n",
    "            perf_kpi.plot.line(y=kpi)"
   ]
  },
  {
   "cell_type": "markdown",
   "metadata": {},
   "source": [
    "# GTrXL-PPO"
   ]
  },
  {
   "cell_type": "code",
   "execution_count": null,
   "metadata": {},
   "outputs": [],
   "source": [
    "ep_log, agent_log = load_logfiles('GTrXL-PPO_4204__20230511_185852_episode_log.txt', \n",
    "                                  'GTrXL-PPO_4204__20230511_185852_agent_reward_log.txt')\n",
    "extract_"
   ]
  }
 ],
 "metadata": {
  "kernelspec": {
   "display_name": "Python 3",
   "language": "python",
   "name": "python3"
  },
  "language_info": {
   "codemirror_mode": {
    "name": "ipython",
    "version": 3
   },
   "file_extension": ".py",
   "mimetype": "text/x-python",
   "name": "python",
   "nbconvert_exporter": "python",
   "pygments_lexer": "ipython3",
   "version": "3.8.8"
  }
 },
 "nbformat": 4,
 "nbformat_minor": 1
}
